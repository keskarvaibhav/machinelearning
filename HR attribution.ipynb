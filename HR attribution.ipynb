{
 "cells": [
  {
   "cell_type": "code",
   "execution_count": 1,
   "metadata": {
    "collapsed": true
   },
   "outputs": [],
   "source": [
    "import pandas as pd\n",
    "import numpy as np\n",
    "df = pd.read_csv(\"hr.csv\")"
   ]
  },
  {
   "cell_type": "code",
   "execution_count": 37,
   "metadata": {
    "collapsed": true
   },
   "outputs": [],
   "source": [
    "##Data Pre-processing"
   ]
  },
  {
   "cell_type": "code",
   "execution_count": 2,
   "metadata": {},
   "outputs": [
    {
     "data": {
      "text/html": [
       "<div>\n",
       "<style>\n",
       "    .dataframe thead tr:only-child th {\n",
       "        text-align: right;\n",
       "    }\n",
       "\n",
       "    .dataframe thead th {\n",
       "        text-align: left;\n",
       "    }\n",
       "\n",
       "    .dataframe tbody tr th {\n",
       "        vertical-align: top;\n",
       "    }\n",
       "</style>\n",
       "<table border=\"1\" class=\"dataframe\">\n",
       "  <thead>\n",
       "    <tr style=\"text-align: right;\">\n",
       "      <th></th>\n",
       "      <th>satisfaction_level</th>\n",
       "      <th>last_evaluation</th>\n",
       "      <th>number_project</th>\n",
       "      <th>average_montly_hours</th>\n",
       "      <th>time_spend_company</th>\n",
       "      <th>Work_accident</th>\n",
       "      <th>left</th>\n",
       "      <th>promotion_last_5years</th>\n",
       "      <th>department</th>\n",
       "      <th>salary</th>\n",
       "    </tr>\n",
       "  </thead>\n",
       "  <tbody>\n",
       "    <tr>\n",
       "      <th>0</th>\n",
       "      <td>0.38</td>\n",
       "      <td>0.53</td>\n",
       "      <td>2</td>\n",
       "      <td>157</td>\n",
       "      <td>3</td>\n",
       "      <td>0</td>\n",
       "      <td>1</td>\n",
       "      <td>0</td>\n",
       "      <td>sales</td>\n",
       "      <td>low</td>\n",
       "    </tr>\n",
       "    <tr>\n",
       "      <th>1</th>\n",
       "      <td>0.80</td>\n",
       "      <td>0.86</td>\n",
       "      <td>5</td>\n",
       "      <td>262</td>\n",
       "      <td>6</td>\n",
       "      <td>0</td>\n",
       "      <td>1</td>\n",
       "      <td>0</td>\n",
       "      <td>sales</td>\n",
       "      <td>medium</td>\n",
       "    </tr>\n",
       "    <tr>\n",
       "      <th>2</th>\n",
       "      <td>0.11</td>\n",
       "      <td>0.88</td>\n",
       "      <td>7</td>\n",
       "      <td>272</td>\n",
       "      <td>4</td>\n",
       "      <td>0</td>\n",
       "      <td>1</td>\n",
       "      <td>0</td>\n",
       "      <td>sales</td>\n",
       "      <td>medium</td>\n",
       "    </tr>\n",
       "    <tr>\n",
       "      <th>3</th>\n",
       "      <td>0.72</td>\n",
       "      <td>0.87</td>\n",
       "      <td>5</td>\n",
       "      <td>223</td>\n",
       "      <td>5</td>\n",
       "      <td>0</td>\n",
       "      <td>1</td>\n",
       "      <td>0</td>\n",
       "      <td>sales</td>\n",
       "      <td>low</td>\n",
       "    </tr>\n",
       "    <tr>\n",
       "      <th>4</th>\n",
       "      <td>0.37</td>\n",
       "      <td>0.52</td>\n",
       "      <td>2</td>\n",
       "      <td>159</td>\n",
       "      <td>3</td>\n",
       "      <td>0</td>\n",
       "      <td>1</td>\n",
       "      <td>0</td>\n",
       "      <td>sales</td>\n",
       "      <td>low</td>\n",
       "    </tr>\n",
       "  </tbody>\n",
       "</table>\n",
       "</div>"
      ],
      "text/plain": [
       "   satisfaction_level  last_evaluation  number_project  average_montly_hours  \\\n",
       "0                0.38             0.53               2                   157   \n",
       "1                0.80             0.86               5                   262   \n",
       "2                0.11             0.88               7                   272   \n",
       "3                0.72             0.87               5                   223   \n",
       "4                0.37             0.52               2                   159   \n",
       "\n",
       "   time_spend_company  Work_accident  left  promotion_last_5years department  \\\n",
       "0                   3              0     1                      0      sales   \n",
       "1                   6              0     1                      0      sales   \n",
       "2                   4              0     1                      0      sales   \n",
       "3                   5              0     1                      0      sales   \n",
       "4                   3              0     1                      0      sales   \n",
       "\n",
       "   salary  \n",
       "0     low  \n",
       "1  medium  \n",
       "2  medium  \n",
       "3     low  \n",
       "4     low  "
      ]
     },
     "execution_count": 2,
     "metadata": {},
     "output_type": "execute_result"
    }
   ],
   "source": [
    "df.head()"
   ]
  },
  {
   "cell_type": "code",
   "execution_count": 3,
   "metadata": {
    "collapsed": true
   },
   "outputs": [],
   "source": [
    "feats = ['department','salary']\n",
    "df_final = pd.get_dummies(df,columns=feats,drop_first=True)"
   ]
  },
  {
   "cell_type": "code",
   "execution_count": 4,
   "metadata": {
    "collapsed": true
   },
   "outputs": [],
   "source": [
    "from sklearn.model_selection import train_test_split"
   ]
  },
  {
   "cell_type": "code",
   "execution_count": 5,
   "metadata": {
    "collapsed": true
   },
   "outputs": [],
   "source": [
    "X = df_final.drop(['left'],axis=1).values\n",
    "y = df_final['left'].values"
   ]
  },
  {
   "cell_type": "code",
   "execution_count": 6,
   "metadata": {
    "collapsed": true
   },
   "outputs": [],
   "source": [
    "X_train, X_test, y_train, y_test = train_test_split(X, y, test_size=0.3)"
   ]
  },
  {
   "cell_type": "code",
   "execution_count": 7,
   "metadata": {
    "collapsed": true
   },
   "outputs": [],
   "source": [
    "from sklearn.preprocessing import StandardScaler\n",
    "sc = StandardScaler()\n",
    "X_train = sc.fit_transform(X_train)\n",
    "X_test = sc.transform(X_test)"
   ]
  },
  {
   "cell_type": "code",
   "execution_count": 8,
   "metadata": {},
   "outputs": [
    {
     "name": "stderr",
     "output_type": "stream",
     "text": [
      "Using TensorFlow backend.\n"
     ]
    }
   ],
   "source": [
    "import keras\n",
    "from keras.models import Sequential\n",
    "from keras.layers import Dense"
   ]
  },
  {
   "cell_type": "code",
   "execution_count": 9,
   "metadata": {
    "collapsed": true
   },
   "outputs": [],
   "source": [
    "classifier = Sequential()"
   ]
  },
  {
   "cell_type": "code",
   "execution_count": 10,
   "metadata": {
    "collapsed": true
   },
   "outputs": [],
   "source": [
    "classifier.add(Dense(9, kernel_initializer = \"uniform\",activation = \"relu\", input_dim=18))"
   ]
  },
  {
   "cell_type": "code",
   "execution_count": 11,
   "metadata": {
    "collapsed": true
   },
   "outputs": [],
   "source": [
    "classifier.add(Dense(1, kernel_initializer = \"uniform\",activation = \"sigmoid\"))"
   ]
  },
  {
   "cell_type": "code",
   "execution_count": 12,
   "metadata": {
    "collapsed": true
   },
   "outputs": [],
   "source": [
    "classifier.compile(optimizer= \"adam\",loss = \"binary_crossentropy\",metrics = [\"accuracy\"])"
   ]
  },
  {
   "cell_type": "code",
   "execution_count": 13,
   "metadata": {},
   "outputs": [
    {
     "name": "stdout",
     "output_type": "stream",
     "text": [
      "Epoch 1/1\n",
      "10499/10499 [==============================] - 2s 150us/step - loss: 0.4271 - acc: 0.7985\n"
     ]
    },
    {
     "data": {
      "text/plain": [
       "<keras.callbacks.History at 0x127079dd8>"
      ]
     },
     "execution_count": 13,
     "metadata": {},
     "output_type": "execute_result"
    }
   ],
   "source": [
    "classifier.fit(X_train, y_train, batch_size = 10, epochs = 10)"
   ]
  },
  {
   "cell_type": "code",
   "execution_count": 14,
   "metadata": {
    "collapsed": true
   },
   "outputs": [],
   "source": [
    "y_pred = classifier.predict(X_test)"
   ]
  },
  {
   "cell_type": "code",
   "execution_count": 15,
   "metadata": {
    "collapsed": true
   },
   "outputs": [],
   "source": [
    "y_pred = (y_pred > 0.5)"
   ]
  },
  {
   "cell_type": "code",
   "execution_count": 16,
   "metadata": {},
   "outputs": [
    {
     "data": {
      "text/plain": [
       "array([[3335,  126],\n",
       "       [ 633,  406]])"
      ]
     },
     "execution_count": 16,
     "metadata": {},
     "output_type": "execute_result"
    }
   ],
   "source": [
    "from sklearn.metrics import confusion_matrix\n",
    "cm = confusion_matrix(y_test, y_pred)\n",
    "cm"
   ]
  },
  {
   "cell_type": "code",
   "execution_count": 17,
   "metadata": {
    "collapsed": true
   },
   "outputs": [],
   "source": [
    "new_pred = classifier.predict(sc.transform(np.array([[0.26,0.7 ,3., 238., 6., 0.,0.,0.,0., 0.,0.,0.,0.,0.,1.,0., 0.,1.]])))"
   ]
  },
  {
   "cell_type": "code",
   "execution_count": 18,
   "metadata": {},
   "outputs": [
    {
     "data": {
      "text/plain": [
       "array([[False]])"
      ]
     },
     "execution_count": 18,
     "metadata": {},
     "output_type": "execute_result"
    }
   ],
   "source": [
    "new_pred = (new_pred > 0.5)\n",
    "new_pred"
   ]
  },
  {
   "cell_type": "code",
   "execution_count": 19,
   "metadata": {},
   "outputs": [
    {
     "data": {
      "text/plain": [
       "array([[False]])"
      ]
     },
     "execution_count": 19,
     "metadata": {},
     "output_type": "execute_result"
    }
   ],
   "source": [
    "new_pred = (new_pred > 0.6)\n",
    "new_pred"
   ]
  },
  {
   "cell_type": "code",
   "execution_count": 20,
   "metadata": {
    "collapsed": true
   },
   "outputs": [],
   "source": [
    "from keras.wrappers.scikit_learn import KerasClassifier\n",
    "from sklearn.model_selection import cross_val_score"
   ]
  },
  {
   "cell_type": "code",
   "execution_count": 21,
   "metadata": {
    "collapsed": true
   },
   "outputs": [],
   "source": [
    "def make_classifier():\n",
    "    classifier = Sequential()\n",
    "    classifier.add(Dense(9, kernel_initializer = \"uniform\", activation = \"relu\", input_dim=18))\n",
    "    classifier.add(Dense(1, kernel_initializer = \"uniform\", activation = \"sigmoid\"))\n",
    "    classifier.compile(optimizer= \"adam\",loss = \"binary_crossentropy\",metrics = [\"accuracy\"])\n",
    "    return classifier"
   ]
  },
  {
   "cell_type": "code",
   "execution_count": 22,
   "metadata": {
    "collapsed": true
   },
   "outputs": [],
   "source": [
    "classifier = KerasClassifier(build_fn = make_classifier, batch_size=10, nb_epoch=1)"
   ]
  },
  {
   "cell_type": "code",
   "execution_count": 25,
   "metadata": {},
   "outputs": [
    {
     "name": "stdout",
     "output_type": "stream",
     "text": [
      "Epoch 1/1\n",
      "9449/9449 [==============================] - 1s 147us/step - loss: 0.4539 - acc: 0.7585\n",
      "1050/1050 [==============================] - 0s 92us/step\n",
      "Epoch 1/1\n",
      "9449/9449 [==============================] - 2s 163us/step - loss: 0.4353 - acc: 0.7939\n",
      "1050/1050 [==============================] - 0s 107us/step\n",
      "Epoch 1/1\n",
      "9449/9449 [==============================] - 1s 154us/step - loss: 0.4305 - acc: 0.7907\n",
      "1050/1050 [==============================] - 0s 150us/step\n",
      "Epoch 1/1\n",
      "9449/9449 [==============================] - 2s 161us/step - loss: 0.4363 - acc: 0.7926\n",
      "1050/1050 [==============================] - 0s 124us/step\n",
      "Epoch 1/1\n",
      "9449/9449 [==============================] - 2s 164us/step - loss: 0.4267 - acc: 0.8190\n",
      "1050/1050 [==============================] - 0s 128us/step\n",
      "Epoch 1/1\n",
      "9449/9449 [==============================] - 2s 167us/step - loss: 0.4509 - acc: 0.7928\n",
      "1050/1050 [==============================] - 0s 148us/step\n",
      "Epoch 1/1\n",
      "9449/9449 [==============================] - 2s 194us/step - loss: 0.4418 - acc: 0.7927\n",
      "1050/1050 [==============================] - 0s 191us/step\n",
      "Epoch 1/1\n",
      "9449/9449 [==============================] - 1s 135us/step - loss: 0.4584 - acc: 0.7579\n",
      "1050/1050 [==============================] - 0s 146us/step\n",
      "Epoch 1/1\n",
      "9449/9449 [==============================] - 1s 143us/step - loss: 0.4445 - acc: 0.7870\n",
      "1050/1050 [==============================] - 0s 155us/step\n",
      "Epoch 1/1\n",
      "9450/9450 [==============================] - 1s 138us/step - loss: 0.4390 - acc: 0.7862\n",
      "1049/1049 [==============================] - 0s 163us/step\n"
     ]
    }
   ],
   "source": [
    "accuracies = cross_val_score(estimator = classifier,X = X_train,y = y_train,cv = 10,n_jobs = -1)"
   ]
  },
  {
   "cell_type": "code",
   "execution_count": 26,
   "metadata": {},
   "outputs": [
    {
     "data": {
      "text/plain": [
       "0.8226506836536149"
      ]
     },
     "execution_count": 26,
     "metadata": {},
     "output_type": "execute_result"
    }
   ],
   "source": [
    "mean = accuracies.mean()\n",
    "mean"
   ]
  },
  {
   "cell_type": "code",
   "execution_count": 27,
   "metadata": {},
   "outputs": [
    {
     "data": {
      "text/plain": [
       "0.0012544400306649228"
      ]
     },
     "execution_count": 27,
     "metadata": {},
     "output_type": "execute_result"
    }
   ],
   "source": [
    "variance = accuracies.var()\n",
    "variance"
   ]
  },
  {
   "cell_type": "code",
   "execution_count": 28,
   "metadata": {
    "collapsed": true
   },
   "outputs": [],
   "source": [
    "from keras.layers import Dropout\n",
    "\n",
    "classifier = Sequential()\n",
    "classifier.add(Dense(9, kernel_initializer = \"uniform\", activation = \"relu\", input_dim=18))\n",
    "classifier.add(Dropout(rate = 0.1))\n",
    "classifier.add(Dense(1, kernel_initializer = \"uniform\", activation = \"sigmoid\"))\n",
    "classifier.compile(optimizer= \"adam\",loss = \"binary_crossentropy\",metrics = [\"accuracy\"])"
   ]
  },
  {
   "cell_type": "code",
   "execution_count": 29,
   "metadata": {
    "collapsed": true
   },
   "outputs": [],
   "source": [
    "from sklearn.model_selection import GridSearchCV\n",
    "def make_classifier(optimizer):\n",
    "    classifier = Sequential()\n",
    "    classifier.add(Dense(9, kernel_initializer = \"uniform\", activation = \"relu\", input_dim=18))\n",
    "    classifier.add(Dense(1, kernel_initializer = \"uniform\", activation = \"sigmoid\"))\n",
    "    classifier.compile(optimizer= optimizer,loss = \"binary_crossentropy\",metrics = [\"accuracy\"])\n",
    "    return classifier"
   ]
  },
  {
   "cell_type": "code",
   "execution_count": 30,
   "metadata": {
    "collapsed": true
   },
   "outputs": [],
   "source": [
    "classifier = KerasClassifier(build_fn = make_classifier)"
   ]
  },
  {
   "cell_type": "code",
   "execution_count": 31,
   "metadata": {
    "collapsed": true
   },
   "outputs": [],
   "source": [
    "params = {\n",
    "    'batch_size':[20,35],\n",
    "    'epochs':[2,3],\n",
    "    'optimizer':['adam','rmsprop']\n",
    "}"
   ]
  },
  {
   "cell_type": "code",
   "execution_count": 32,
   "metadata": {
    "collapsed": true
   },
   "outputs": [],
   "source": [
    "grid_search = GridSearchCV(estimator=classifier,\n",
    "                           param_grid=params,\n",
    "                           scoring=\"accuracy\",\n",
    "                           cv=2)"
   ]
  },
  {
   "cell_type": "code",
   "execution_count": 33,
   "metadata": {},
   "outputs": [
    {
     "name": "stdout",
     "output_type": "stream",
     "text": [
      "Epoch 1/2\n",
      "5249/5249 [==============================] - 1s 174us/step - loss: 0.5764 - acc: 0.7567\n",
      "Epoch 2/2\n",
      "5249/5249 [==============================] - 0s 86us/step - loss: 0.4007 - acc: 0.7929\n",
      "Epoch 1/2\n",
      "5250/5250 [==============================] - 1s 184us/step - loss: 0.5773 - acc: 0.7691\n",
      "Epoch 2/2\n",
      "5250/5250 [==============================] - 0s 68us/step - loss: 0.3980 - acc: 0.7981\n",
      "Epoch 1/2\n",
      "5249/5249 [==============================] - 1s 142us/step - loss: 0.5971 - acc: 0.7611\n",
      "Epoch 2/2\n",
      "5249/5249 [==============================] - 0s 45us/step - loss: 0.4305 - acc: 0.7954\n",
      "Epoch 1/2\n",
      "5250/5250 [==============================] - 1s 145us/step - loss: 0.6050 - acc: 0.7514\n",
      "Epoch 2/2\n",
      "5250/5250 [==============================] - 0s 75us/step - loss: 0.4261 - acc: 0.7981\n",
      "Epoch 1/3\n",
      "5249/5249 [==============================] - 1s 216us/step - loss: 0.5672 - acc: 0.7622\n",
      "Epoch 2/3\n",
      "5249/5249 [==============================] - 0s 83us/step - loss: 0.4117 - acc: 0.7624\n",
      "Epoch 3/3\n",
      "5249/5249 [==============================] - 0s 74us/step - loss: 0.3739 - acc: 0.7624\n",
      "Epoch 1/3\n",
      "5250/5250 [==============================] - 1s 198us/step - loss: 0.5851 - acc: 0.7558\n",
      "Epoch 2/3\n",
      "5250/5250 [==============================] - 0s 63us/step - loss: 0.3883 - acc: 0.8314\n",
      "Epoch 3/3\n",
      "5250/5250 [==============================] - 0s 51us/step - loss: 0.3057 - acc: 0.8874\n",
      "Epoch 1/3\n",
      "5249/5249 [==============================] - 1s 159us/step - loss: 0.5773 - acc: 0.7615\n",
      "Epoch 2/3\n",
      "5249/5249 [==============================] - 0s 45us/step - loss: 0.4233 - acc: 0.7624\n",
      "Epoch 3/3\n",
      "5249/5249 [==============================] - 0s 44us/step - loss: 0.3804 - acc: 0.7624\n",
      "Epoch 1/3\n",
      "5250/5250 [==============================] - 1s 174us/step - loss: 0.6053 - acc: 0.7524\n",
      "Epoch 2/3\n",
      "5250/5250 [==============================] - 0s 64us/step - loss: 0.4434 - acc: 0.7848\n",
      "Epoch 3/3\n",
      "5250/5250 [==============================] - 0s 45us/step - loss: 0.3748 - acc: 0.8198\n",
      "Epoch 1/2\n",
      "5249/5249 [==============================] - 1s 165us/step - loss: 0.6217 - acc: 0.7598\n",
      "Epoch 2/2\n",
      "5249/5249 [==============================] - 0s 30us/step - loss: 0.4644 - acc: 0.7638\n",
      "Epoch 1/2\n",
      "5250/5250 [==============================] - 1s 179us/step - loss: 0.6436 - acc: 0.7480\n",
      "Epoch 2/2\n",
      "5250/5250 [==============================] - 0s 28us/step - loss: 0.4828 - acc: 0.7550\n",
      "Epoch 1/2\n",
      "5249/5249 [==============================] - 1s 184us/step - loss: 0.6361 - acc: 0.7594\n",
      "Epoch 2/2\n",
      "5249/5249 [==============================] - 0s 29us/step - loss: 0.4982 - acc: 0.7624\n",
      "Epoch 1/2\n",
      "5250/5250 [==============================] - 1s 166us/step - loss: 0.6398 - acc: 0.7503\n",
      "Epoch 2/2\n",
      "5250/5250 [==============================] - 0s 29us/step - loss: 0.5098 - acc: 0.7554\n",
      "Epoch 1/3\n",
      "5249/5249 [==============================] - 1s 214us/step - loss: 0.6299 - acc: 0.7600\n",
      "Epoch 2/3\n",
      "5249/5249 [==============================] - 0s 28us/step - loss: 0.4600 - acc: 0.7870\n",
      "Epoch 3/3\n",
      "5249/5249 [==============================] - 0s 37us/step - loss: 0.3689 - acc: 0.8407\n",
      "Epoch 1/3\n",
      "5250/5250 [==============================] - 1s 191us/step - loss: 0.6331 - acc: 0.7535\n",
      "Epoch 2/3\n",
      "5250/5250 [==============================] - 0s 32us/step - loss: 0.4749 - acc: 0.7714\n",
      "Epoch 3/3\n",
      "5250/5250 [==============================] - 0s 38us/step - loss: 0.3980 - acc: 0.7958\n",
      "Epoch 1/3\n",
      "5249/5249 [==============================] - 1s 273us/step - loss: 0.6512 - acc: 0.7710\n",
      "Epoch 2/3\n",
      "5249/5249 [==============================] - 0s 55us/step - loss: 0.5450 - acc: 0.8097\n",
      "Epoch 3/3\n",
      "5249/5249 [==============================] - 0s 85us/step - loss: 0.4454 - acc: 0.8024\n",
      "Epoch 1/3\n",
      "5250/5250 [==============================] - 1s 207us/step - loss: 0.6325 - acc: 0.7535\n",
      "Epoch 2/3\n",
      "5250/5250 [==============================] - 0s 53us/step - loss: 0.5017 - acc: 0.7552\n",
      "Epoch 3/3\n",
      "5250/5250 [==============================] - 0s 50us/step - loss: 0.4268 - acc: 0.7642\n",
      "Epoch 1/3\n",
      "10499/10499 [==============================] - 2s 173us/step - loss: 0.4976 - acc: 0.7752\n",
      "Epoch 2/3\n",
      "10499/10499 [==============================] - 1s 122us/step - loss: 0.3225 - acc: 0.8177\n",
      "Epoch 3/3\n",
      "10499/10499 [==============================] - 1s 138us/step - loss: 0.2670 - acc: 0.8481\n"
     ]
    }
   ],
   "source": [
    "grid_search = grid_search.fit(X_train,y_train)"
   ]
  },
  {
   "cell_type": "code",
   "execution_count": 34,
   "metadata": {
    "collapsed": true
   },
   "outputs": [],
   "source": [
    "best_param = grid_search.best_params_\n",
    "best_accuracy = grid_search.best_score_"
   ]
  },
  {
   "cell_type": "code",
   "execution_count": 35,
   "metadata": {},
   "outputs": [
    {
     "data": {
      "text/plain": [
       "{'batch_size': 20, 'epochs': 3, 'optimizer': 'adam'}"
      ]
     },
     "execution_count": 35,
     "metadata": {},
     "output_type": "execute_result"
    }
   ],
   "source": [
    "best_param\n"
   ]
  },
  {
   "cell_type": "code",
   "execution_count": 36,
   "metadata": {},
   "outputs": [
    {
     "data": {
      "text/plain": [
       "0.8260786741594438"
      ]
     },
     "execution_count": 36,
     "metadata": {},
     "output_type": "execute_result"
    }
   ],
   "source": [
    "best_accuracy"
   ]
  },
  {
   "cell_type": "code",
   "execution_count": null,
   "metadata": {
    "collapsed": true
   },
   "outputs": [],
   "source": []
  }
 ],
 "metadata": {
  "kernelspec": {
   "display_name": "Python 3",
   "language": "python",
   "name": "python3"
  },
  "language_info": {
   "codemirror_mode": {
    "name": "ipython",
    "version": 3
   },
   "file_extension": ".py",
   "mimetype": "text/x-python",
   "name": "python",
   "nbconvert_exporter": "python",
   "pygments_lexer": "ipython3",
   "version": "3.6.8"
  }
 },
 "nbformat": 4,
 "nbformat_minor": 2
}
